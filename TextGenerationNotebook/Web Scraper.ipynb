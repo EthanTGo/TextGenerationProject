{
 "cells": [
  {
   "cell_type": "code",
   "execution_count": 2,
   "metadata": {},
   "outputs": [],
   "source": [
    "import numpy as np\n",
    "import pandas as pd\n",
    "import requests \n",
    "from bs4 import BeautifulSoup, NavigableString, Tag\n",
    "import matplotlib.pyplot as plt\n",
    "%matplotlib inline"
   ]
  },
  {
   "cell_type": "markdown",
   "metadata": {},
   "source": [
    "### Getting the data"
   ]
  },
  {
   "cell_type": "markdown",
   "metadata": {},
   "source": [
    "### Grade 3 - Kagero"
   ]
  },
  {
   "cell_type": "code",
   "execution_count": 3,
   "metadata": {},
   "outputs": [],
   "source": [
    "URL = \"https://cardfight.fandom.com/wiki/Kagero_(V_Series)\"\n",
    "r = requests.get(URL) \n",
    "\n",
    "soup = BeautifulSoup(r.content, 'html5lib') \n",
    "\n",
    "# Finding a h3 with the content of grade 3\n",
    "grade3 = soup.find_all(\"h3\", string=\"Grade 3\")\n",
    "\n",
    "# We are going to store information here\n",
    "card_links = []\n",
    "for header in soup.find_all('h3', string=\"Grade 3\"):\n",
    "    nextNode = header\n",
    "    while True:\n",
    "        nextNode = nextNode.nextSibling\n",
    "        if nextNode is None:\n",
    "            break\n",
    "        if isinstance(nextNode, Tag):\n",
    "            if nextNode.name == \"h3\":\n",
    "                break\n",
    "            card_links.append(nextNode)"
   ]
  },
  {
   "cell_type": "code",
   "execution_count": 8,
   "metadata": {},
   "outputs": [],
   "source": [
    "cards = []\n",
    "for row in card_links[0].findAll('tr'):\n",
    "    if type(row) != None:\n",
    "        cards.append(row.find('td'))"
   ]
  },
  {
   "cell_type": "code",
   "execution_count": 12,
   "metadata": {},
   "outputs": [],
   "source": [
    "cards_a_attr = []\n",
    "for link in cards:\n",
    "    if link != None:\n",
    "        cards_a_attr.append(link.find('a', href=True)['href'])"
   ]
  },
  {
   "cell_type": "code",
   "execution_count": 13,
   "metadata": {},
   "outputs": [
    {
     "data": {
      "text/plain": [
       "['/wiki/Blazing_Flare_Dragon_(V_Series)',\n",
       " '/wiki/Crested_Dragon_(V_Series)',\n",
       " '/wiki/Crested_Dragon_(V_Series_Start_Deck)',\n",
       " '/wiki/Cruel_Dragon_(V_Series)',\n",
       " '/wiki/Dauntless_Dominate_Dragon_%22%D0%AFeverse%22_(V_Series)',\n",
       " '/wiki/Dauntless_Drive_Dragon_(V_Series)',\n",
       " '/wiki/Dragon_Dancer,_Nastasha',\n",
       " '/wiki/Dragon_Knight,_Ishaq',\n",
       " '/wiki/Dragon_Knight,_Nizari',\n",
       " '/wiki/Dragonic_Blademaster_(V_Series)',\n",
       " '/wiki/Dragonic_Blademaster_%22Souen%22',\n",
       " '/wiki/Dragonic_Lawkeeper_(V_Series)',\n",
       " '/wiki/Dragonic_Overlord_(V_Series)',\n",
       " '/wiki/Dragonic_Overlord_the_End_(V_Series)',\n",
       " '/wiki/Dragonic_Overlord_the_Great',\n",
       " '/wiki/Dragonic_Overlord_%22The_TurnAbout%22',\n",
       " '/wiki/Dragonic_Overlord_%22The_Victory%22',\n",
       " '/wiki/Dragonic_Overlord_%22The_X%22_(V_Series)',\n",
       " '/wiki/Dragonic_Waterfall_(V_Series)',\n",
       " '/wiki/Dual_Axe_Archdragon_(V_Series)',\n",
       " '/wiki/Exile_Dragon_(V_Series)',\n",
       " '/wiki/Exotic_Dragnal_Armor',\n",
       " '/wiki/Fire_Rage_Dragon',\n",
       " '/wiki/Lava_Blast_Dragon',\n",
       " '/wiki/Oddness-ardor_Dragon',\n",
       " '/wiki/Seal_Dragon,_Blockade_(V_Series)',\n",
       " '/wiki/Shine_Bardiche_Dragon',\n",
       " '/wiki/Vortex_Dragon_(V_Series)',\n",
       " '/wiki/Wyvern_Strike,_Agaruda',\n",
       " '/wiki/Wyvern_Strike,_Agaruda_(V_Series_Start_Deck)']"
      ]
     },
     "execution_count": 13,
     "metadata": {},
     "output_type": "execute_result"
    }
   ],
   "source": [
    "cards_a_attr"
   ]
  },
  {
   "cell_type": "code",
   "execution_count": 68,
   "metadata": {
    "scrolled": true
   },
   "outputs": [],
   "source": [
    "'''\n",
    "For now, we are going to get specific and aim at the cards with the following attributes:\n",
    "\n",
    "Clan: Kagero (one of many clans in the game but our choice)\n",
    "\n",
    "Grade 3: The typical Big Boss Unit cards \n",
    "\n",
    "\n",
    "'''\n",
    "URL = \"https://cardfight.fandom.com/wiki/Kagero_(V_Series)\"\n",
    "r = requests.get(URL) \n",
    "\n",
    "soup = BeautifulSoup(r.content, 'html5lib') \n",
    "\n",
    "# Finding a h3 with the content of grade 3\n",
    "grade3 = soup.find_all(\"h3\", string=\"Grade 3\")\n",
    "\n",
    "# We are going to store information here\n",
    "card_links = []\n",
    "for header in soup.find_all('h3', string=\"Grade 3\"):\n",
    "    nextNode = header\n",
    "    while True:\n",
    "        nextNode = nextNode.nextSibling\n",
    "        if nextNode is None:\n",
    "            break\n",
    "        if isinstance(nextNode, Tag):\n",
    "            if nextNode.name == \"h3\":\n",
    "                break\n",
    "            card_links.append(nextNode)\n",
    "\n",
    "cards = []\n",
    "for row in card_links[0].findAll('tr'):\n",
    "    if type(row) != None:\n",
    "        cards.append(row.find('td'))\n",
    "\n",
    "cards_a_attr = []\n",
    "for link in cards:\n",
    "    if link != None:\n",
    "        cards_a_attr.append(link.find('a', href=True)['href'])\n",
    "\n",
    "base_url = 'https://cardfight.fandom.com'\n",
    "\n",
    "full_link = []\n",
    "for i in cards_a_attr:  \n",
    "    full_link.append(base_url + i)\n"
   ]
  },
  {
   "cell_type": "code",
   "execution_count": 85,
   "metadata": {},
   "outputs": [],
   "source": [
    "'''\n",
    "Next step is to go to each page\n",
    "'''\n",
    "\n",
    "document = ''\n",
    "for link in full_link:\n",
    "    r = requests.get(link)\n",
    "    soup = BeautifulSoup(r.content,'html5lib')\n",
    "    items = soup.find('table', attrs = {'class':'effect'}).findAll('td')\n",
    "    for item in items:\n",
    "        document = document + item.text"
   ]
  },
  {
   "cell_type": "code",
   "execution_count": 87,
   "metadata": {},
   "outputs": [],
   "source": [
    "text_file = open(\"grade3_kagero.txt\", \"wt\")\n",
    "n = text_file.write(document)\n",
    "text_file.close()"
   ]
  },
  {
   "cell_type": "markdown",
   "metadata": {},
   "source": [
    "### Grade 2"
   ]
  },
  {
   "cell_type": "code",
   "execution_count": 88,
   "metadata": {},
   "outputs": [],
   "source": [
    "'''\n",
    "For now, we are going to get specific and aim at the cards with the following attributes:\n",
    "\n",
    "Clan: Kagero (one of many clans in the game but our choice)\n",
    "\n",
    "Grade 2: The Midrange units\n",
    "\n",
    "\n",
    "'''\n",
    "URL = \"https://cardfight.fandom.com/wiki/Kagero_(V_Series)\"\n",
    "r = requests.get(URL) \n",
    "\n",
    "soup = BeautifulSoup(r.content, 'html5lib') \n",
    "\n",
    "# Finding a h3 with the content of grade 3\n",
    "grade3 = soup.find_all(\"h3\", string=\"Grade 2\")\n",
    "\n",
    "# We are going to store information here\n",
    "card_links = []\n",
    "for header in soup.find_all('h3', string=\"Grade 2\"):\n",
    "    nextNode = header\n",
    "    while True:\n",
    "        nextNode = nextNode.nextSibling\n",
    "        if nextNode is None:\n",
    "            break\n",
    "        if isinstance(nextNode, Tag):\n",
    "            if nextNode.name == \"h3\":\n",
    "                break\n",
    "            card_links.append(nextNode)\n",
    "\n",
    "cards = []\n",
    "for row in card_links[0].findAll('tr'):\n",
    "    if type(row) != None:\n",
    "        cards.append(row.find('td'))\n",
    "\n",
    "cards_a_attr = []\n",
    "for link in cards:\n",
    "    if link != None:\n",
    "        cards_a_attr.append(link.find('a', href=True)['href'])\n",
    "\n",
    "base_url = 'https://cardfight.fandom.com'\n",
    "\n",
    "full_link = []\n",
    "for i in cards_a_attr:  \n",
    "    full_link.append(base_url + i)\n"
   ]
  },
  {
   "cell_type": "code",
   "execution_count": 90,
   "metadata": {},
   "outputs": [
    {
     "data": {
      "text/plain": [
       "['https://cardfight.fandom.com/wiki/Bellicosity_Dragon_(V_Series)',\n",
       " 'https://cardfight.fandom.com/wiki/Berserk_Dragon_(V_Series)',\n",
       " 'https://cardfight.fandom.com/wiki/Break_Breath_Dragon',\n",
       " 'https://cardfight.fandom.com/wiki/Burning_Horn_Dragon_(V_Series)',\n",
       " 'https://cardfight.fandom.com/wiki/Burnrise_Dragon',\n",
       " 'https://cardfight.fandom.com/wiki/Bursting_Lance_Dragon',\n",
       " 'https://cardfight.fandom.com/wiki/Chain-attack_Sutherland_(V_Series)',\n",
       " 'https://cardfight.fandom.com/wiki/Demonic_Dragon_Mage,_Keiten',\n",
       " 'https://cardfight.fandom.com/wiki/Demonic_Dragon_Mage,_Sakara',\n",
       " 'https://cardfight.fandom.com/wiki/Dilmond_of_Dragon_Spear',\n",
       " 'https://cardfight.fandom.com/wiki/Dragon_Armored_Knight_(V_Series)',\n",
       " 'https://cardfight.fandom.com/wiki/Dragon_Armored_Knight_(V_Series_Start_Deck)',\n",
       " 'https://cardfight.fandom.com/wiki/Dragon_Dancer,_Farja',\n",
       " 'https://cardfight.fandom.com/wiki/Dragon_Dancer,_Frema',\n",
       " 'https://cardfight.fandom.com/wiki/Dragon_Full-armored_Buster',\n",
       " 'https://cardfight.fandom.com/wiki/Dragon_Knight,_Baqir',\n",
       " 'https://cardfight.fandom.com/wiki/Dragon_Knight,_Fahim',\n",
       " 'https://cardfight.fandom.com/wiki/Dragon_Knight,_Mukhtar',\n",
       " 'https://cardfight.fandom.com/wiki/Dragon_Knight,_Nehalem',\n",
       " 'https://cardfight.fandom.com/wiki/Dragon_Knight,_Nehalem_(V_Series_Start_Deck)',\n",
       " 'https://cardfight.fandom.com/wiki/Dragon_Knight,_Zarina',\n",
       " 'https://cardfight.fandom.com/wiki/Dragonic_Burnout_(V_Series)',\n",
       " 'https://cardfight.fandom.com/wiki/Dragonic_Neoflame',\n",
       " 'https://cardfight.fandom.com/wiki/Dynamelt_Dragon',\n",
       " 'https://cardfight.fandom.com/wiki/Embodiment_of_Shield,_Lahm',\n",
       " 'https://cardfight.fandom.com/wiki/Flame_of_Destruction,_Verbti',\n",
       " 'https://cardfight.fandom.com/wiki/Genie_Soldat_(V_Series)',\n",
       " 'https://cardfight.fandom.com/wiki/Igniroad_Dragon',\n",
       " 'https://cardfight.fandom.com/wiki/Meltstream_Dragon',\n",
       " 'https://cardfight.fandom.com/wiki/Nouvellecritic_Dragon_(V_Series)',\n",
       " 'https://cardfight.fandom.com/wiki/Prowling_Dragon,_Striken_(V_Series)',\n",
       " 'https://cardfight.fandom.com/wiki/Seal_Dragon,_Corduroy_(V_Series)',\n",
       " 'https://cardfight.fandom.com/wiki/Spillover_Dragon',\n",
       " 'https://cardfight.fandom.com/wiki/Torridcannon_Dragon',\n",
       " 'https://cardfight.fandom.com/wiki/Wyvern_Strike,_Dekat',\n",
       " 'https://cardfight.fandom.com/wiki/Wyvern_Strike,_Doha_(V_Series)',\n",
       " 'https://cardfight.fandom.com/wiki/Wyvern_Strike,_Gajil_Bird']"
      ]
     },
     "execution_count": 90,
     "metadata": {},
     "output_type": "execute_result"
    }
   ],
   "source": [
    "full_link"
   ]
  },
  {
   "cell_type": "code",
   "execution_count": 98,
   "metadata": {
    "scrolled": false
   },
   "outputs": [
    {
     "name": "stdout",
     "output_type": "stream",
     "text": [
      "A none appeared\n",
      "A none appeared\n",
      "A none appeared\n",
      "A none appeared\n"
     ]
    }
   ],
   "source": [
    "'''\n",
    "Next step is to go to each page\n",
    "'''\n",
    "\n",
    "document_grade2 = ''\n",
    "for link in full_link:\n",
    "    r = requests.get(link)\n",
    "    soup = BeautifulSoup(r.content,'html5lib')\n",
    "    try:\n",
    "        soup.find('table', attrs = {'class':'effect'}).findAll('td')\n",
    "        items = soup.find('table', attrs = {'class':'effect'}).findAll('td')\n",
    "        for item in items:\n",
    "            document_grade2 = document_grade2 + item.text\n",
    "    except:\n",
    "        print('A none appeared')"
   ]
  },
  {
   "cell_type": "code",
   "execution_count": null,
   "metadata": {},
   "outputs": [],
   "source": [
    "document"
   ]
  },
  {
   "cell_type": "markdown",
   "metadata": {},
   "source": []
  },
  {
   "cell_type": "code",
   "execution_count": null,
   "metadata": {},
   "outputs": [],
   "source": []
  }
 ],
 "metadata": {
  "kernelspec": {
   "display_name": "Python 3",
   "language": "python",
   "name": "python3"
  },
  "language_info": {
   "codemirror_mode": {
    "name": "ipython",
    "version": 3
   },
   "file_extension": ".py",
   "mimetype": "text/x-python",
   "name": "python",
   "nbconvert_exporter": "python",
   "pygments_lexer": "ipython3",
   "version": "3.7.6"
  }
 },
 "nbformat": 4,
 "nbformat_minor": 4
}
